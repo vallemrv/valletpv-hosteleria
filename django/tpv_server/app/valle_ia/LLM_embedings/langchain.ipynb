{
 "cells": [
  {
   "cell_type": "code",
   "execution_count": 2,
   "metadata": {},
   "outputs": [],
   "source": [
    "import os\n",
    "openai_api_key = os.environ.get(\"API_KEY\")"
   ]
  },
  {
   "cell_type": "code",
   "execution_count": 56,
   "metadata": {},
   "outputs": [],
   "source": [
    "from langchain.document_loaders import TextLoader\n",
    "from langchain.text_splitter import RecursiveCharacterTextSplitter\n",
    "from langchain.vectorstores import FAISS\n",
    "from langchain.embeddings import OpenAIEmbeddings\n",
    "\n",
    "loader = TextLoader('structura.txt')\n",
    "documents = loader.load()\n"
   ]
  },
  {
   "cell_type": "code",
   "execution_count": 57,
   "metadata": {},
   "outputs": [],
   "source": [
    "# Get your splitter ready\n",
    "text_splitter = RecursiveCharacterTextSplitter(chunk_size=150, chunk_overlap=5)\n",
    "\n",
    "# Split your docs into texts\n",
    "docs = text_splitter.split_documents(documents)\n",
    "\n",
    "# Get embedding engine ready\n",
    "embeddings = OpenAIEmbeddings(openai_api_key=openai_api_key)\n",
    "\n",
    "# Embedd your texts\n",
    "db = FAISS.from_documents(docs, embeddings)"
   ]
  },
  {
   "cell_type": "code",
   "execution_count": 58,
   "metadata": {},
   "outputs": [
    {
     "data": {
      "text/plain": [
       "[Document(page_content='NULL REFERENCES \"camareros\" (\"ID\") DEFERRABLE INITIALLY DEFERRED, \"Fecha\" date NOT NULL)', metadata={'source': 'structura.txt'}),\n",
       " Document(page_content='NOT NULL, \"camarero_id\" integer NOT NULL REFERENCES \"camareros\" (\"ID\") DEFERRABLE INITIALLY DEFERRED, \"receptor_id\" integer NOT NULL REFERENCES', metadata={'source': 'structura.txt'}),\n",
       " Document(page_content='CREATE TABLE \"camareros\" (\"ID\" integer NOT NULL PRIMARY KEY AUTOINCREMENT, \"Nombre\" varchar(100) NOT NULL, \"Apellidos\" varchar(100) NOT NULL, \"Email\"', metadata={'source': 'structura.txt'}),\n",
       " Document(page_content='integer NOT NULL REFERENCES \"camareros\" (\"ID\") DEFERRABLE INITIALLY DEFERRED, \"IDLPedido\" integer NOT NULL REFERENCES \"lineaspedido\" (\"ID\") DEFERRABLE', metadata={'source': 'structura.txt'})]"
      ]
     },
     "execution_count": 58,
     "metadata": {},
     "output_type": "execute_result"
    }
   ],
   "source": [
    "retriever = db.as_retriever()\n",
    "prueba = retriever.get_relevant_documents(\"Lista de camareros\")\n",
    "prueba"
   ]
  },
  {
   "cell_type": "code",
   "execution_count": 59,
   "metadata": {},
   "outputs": [],
   "source": [
    "from langchain.chat_models import ChatOpenAI\n",
    "\n",
    "llm = ChatOpenAI(model_name=\"gpt-3.5-turbo\",temperature=0, openai_api_key=openai_api_key)"
   ]
  },
  {
   "cell_type": "code",
   "execution_count": 60,
   "metadata": {},
   "outputs": [],
   "source": [
    "# The LangChain component we'll use to get the documents\n",
    "from langchain.chains import RetrievalQA\n",
    "qa = RetrievalQA.from_chain_type(llm=llm, chain_type=\"stuff\", retriever=db.as_retriever())"
   ]
  },
  {
   "cell_type": "code",
   "execution_count": 61,
   "metadata": {},
   "outputs": [],
   "source": [
    "from langchain.prompts import PromptTemplate\n",
    "\n",
    "# Create our template\n",
    "template = \"\"\"\n",
    "Eres una IA experta en traducir texto a SQL:   \n",
    "\n",
    "Podrias crar una consulta SQL con la {consulta}. Solo necesito la consulta sin explicaciones.\n",
    "En una linea.\n",
    "\"\"\"\n",
    "\n",
    "p = PromptTemplate(\n",
    "    template=template,\n",
    "    input_variables=[\"consulta\"]\n",
    ")"
   ]
  },
  {
   "cell_type": "code",
   "execution_count": null,
   "metadata": {},
   "outputs": [
    {
     "data": {
      "text/plain": [
       "'SELECT * FROM camareros;'"
      ]
     },
     "execution_count": 35,
     "metadata": {},
     "output_type": "execute_result"
    }
   ],
   "source": [
    "qa.run(p.format(consulta=\"Dame la lista de camareros\") )"
   ]
  },
  {
   "cell_type": "code",
   "execution_count": null,
   "metadata": {},
   "outputs": [
    {
     "data": {
      "text/plain": [
       "'SELECT * FROM ticket ORDER BY ID DESC LIMIT 100;'"
      ]
     },
     "execution_count": 36,
     "metadata": {},
     "output_type": "execute_result"
    }
   ],
   "source": [
    "qa.run(p.format(consulta=\"Lista de los 100 ultimos ticket\"))"
   ]
  },
  {
   "cell_type": "code",
   "execution_count": 62,
   "metadata": {},
   "outputs": [
    {
     "data": {
      "text/plain": [
       "\"SELECT * FROM infmesa WHERE UID = 'Z1';\""
      ]
     },
     "execution_count": 62,
     "metadata": {},
     "output_type": "execute_result"
    }
   ],
   "source": [
    "qa.run(p.format(consulta=\"Dame la informacion completa de la mesa Z1\"))"
   ]
  },
  {
   "cell_type": "code",
   "execution_count": 16,
   "metadata": {},
   "outputs": [],
   "source": [
    "from langchain.prompts.example_selector import SemanticSimilarityExampleSelector\n",
    "from langchain.vectorstores import FAISS\n",
    "from langchain.embeddings import OpenAIEmbeddings\n",
    "from langchain.prompts import FewShotPromptTemplate, PromptTemplate\n",
    "from langchain.chat_models import ChatOpenAI\n",
    "import json\n",
    "\n",
    "llm = ChatOpenAI(model_name=\"gpt-3.5-turbo\", openai_api_key=openai_api_key, temperature=0)\n",
    "\n",
    "example_prompt = PromptTemplate(\n",
    "    input_variables=[\"input\", \"output\"],\n",
    "    template=\"Example Input: {input}\\nExample Output: {output}\",\n",
    ")\n",
    "\n",
    "with open(\"str_tes.json\", \"r\") as f:\n",
    "    result = json.loads(f.read())"
   ]
  },
  {
   "cell_type": "code",
   "execution_count": 17,
   "metadata": {},
   "outputs": [],
   "source": [
    "# SemanticSimilarityExampleSelector will select examples that are similar to your input by semantic meaning\n",
    "\n",
    "example_selector = SemanticSimilarityExampleSelector.from_examples(\n",
    "    # This is the list of examples available to select from.\n",
    "    result, \n",
    "    \n",
    "    # This is the embedding class used to produce embeddings which are used to measure semantic similarity.\n",
    "    OpenAIEmbeddings(openai_api_key=openai_api_key), \n",
    "    \n",
    "    # This is the VectorStore class that is used to store the embeddings and do a similarity search over.\n",
    "    FAISS, \n",
    "    \n",
    "    # This is the number of examples to produce.\n",
    "    k=4\n",
    ")"
   ]
  },
  {
   "cell_type": "code",
   "execution_count": 18,
   "metadata": {},
   "outputs": [],
   "source": [
    "similar_prompt = FewShotPromptTemplate(\n",
    "    # The object that will help select examples\n",
    "    example_selector=example_selector,\n",
    "    \n",
    "    # Your prompt\n",
    "    example_prompt=example_prompt,\n",
    "    \n",
    "    # Customizations that will be added to the top and bottom of your prompt\n",
    "    prefix=\"Traduce el texto a una consulta sql.\",\n",
    "    suffix=\"Input: {text}\\nOutput:\",\n",
    "    \n",
    "    # What inputs your prompt will receive\n",
    "    input_variables=[\"text\"],\n",
    ")"
   ]
  },
  {
   "cell_type": "code",
   "execution_count": 94,
   "metadata": {},
   "outputs": [
    {
     "name": "stdout",
     "output_type": "stream",
     "text": [
      "Traduce el texto a una consulta sql.\n",
      "\n",
      "Example Input: Obtener el nombre, apellido y email de todos los camareros\n",
      "Example Output: SELECT Nombre, Apellidos, Email FROM camareros\n",
      "\n",
      "Example Input: Obtener información de los camareros\n",
      "Example Output: SELECT ID, Nombre, Apellido, Autorizado FROM camareros;\n",
      "\n",
      "Example Input: ¿Cuál es el ID, nombre, apellido y autorización de los camareros?\n",
      "Example Output: SELECT ID, Nombre, Apellido, Autorizado FROM camareros;\n",
      "\n",
      "Example Input: Obtener los nombres de todos los camareros autorizados\n",
      "Example Output: SELECT Nombre FROM camareros WHERE Autorizado = 1\n",
      "\n",
      "Input: Dame la lista de camareros\n",
      "Output:\n"
     ]
    }
   ],
   "source": [
    "# Select a noun!\n",
    "text = \"Dame la lista de camareros\"\n",
    "\n",
    "print(similar_prompt.format(text=text))"
   ]
  },
  {
   "cell_type": "code",
   "execution_count": 95,
   "metadata": {},
   "outputs": [
    {
     "data": {
      "text/plain": [
       "\"WITH latest_unique_historialnulos AS (SELECT * FROM (SELECT historialnulos.*, lp.IDArt, lp.Estado, lp.UID FROM historialnulos INNER JOIN lineaspedido as lp ON lp.ID = historialnulos.IDLPedido GROUP BY UID) t ORDER BY ID DESC LIMIT 10) SELECT infmesa.Hora, camareros.Nombre AS camarero_nombre, mesas.Nombre AS mesa_nombre, infmesa.Fecha, COUNT(CASE WHEN lineaspedido.Estado = 'A' THEN 1 END) AS nulos, COUNT(CASE WHEN lineaspedido.Estado = 'P' THEN 1 END) AS pedidos, COUNT(CASE WHEN lineaspedido.Estado = 'C' THEN 1 END) AS cobrados FROM infmesa INNER JOIN latest_unique_historialnulos ON infmesa.UID = latest_unique_historialnulos.UID INNER JOIN pedidos ON pedidos.UID = infmesa.UID INNER JOIN lineaspedido ON lineaspedido.IDPedido = pedidos.ID INNER JOIN camareros ON camareros.ID = infmesa.IDCam INNER JOIN mesas ON mesas.ID = CAST(SUBSTR(infmesa.UID, 1, INSTR(infmesa.UID, '-') - 1) AS INT) WHERE lineaspedido.Estado = 'A' GROUP BY infmesa.UID, infmesa.Hora, camareros.Nombre, mesas.Nombre, infmesa.Fecha;\""
      ]
     },
     "execution_count": 95,
     "metadata": {},
     "output_type": "execute_result"
    }
   ],
   "source": [
    "llm(similar_prompt.format(text=\"dame una lista de 10 mesas que contengan nulos\"))"
   ]
  },
  {
   "cell_type": "code",
   "execution_count": 96,
   "metadata": {},
   "outputs": [
    {
     "data": {
      "text/plain": [
       "\"WITH ic AS (SELECT Hora, Fecha, IDCam, UID, CAST(SUBSTR(infmesa.UID, 1, INSTR(infmesa.UID, '-') - 1) AS INT) as IDMesa FROM infmesa WHERE Hora = '09:19' AND Fecha = '2023-05-01') SELECT ic.Hora, cm.Nombre AS cam_mesa, mesas.Nombre AS mesa_nombre, ic.Fecha, lp.Precio, Count(lp.IDArt) as Can, lp.Descripcion, Count(lp.IDArt) * lp.Precio as Total, lp.Estado, p.ID as IDPedido, cp.Nombre AS cam_pedido, p.Hora as hora_pedidos FROM ic INNER JOIN mesas ON mesas.ID = ic.IDMesa AND mesas.Nombre = 'S16' INNER JOIN pedidos p ON p.UID = ic.UID INNER JOIN lineaspedido lp ON  lp.IDPedido = p.ID INNER JOIN camareros cp ON cp.ID = p.IDCam INNER JOIN camareros cm ON cm.ID=ic.IDCam GROUP BY p.ID, lp.IDArt, lp.Descripcion, lp.Estado;\""
      ]
     },
     "execution_count": 96,
     "metadata": {},
     "output_type": "execute_result"
    }
   ],
   "source": [
    "llm(similar_prompt.format(text=\"Dame la informacion de la mesa S16 del 1 de mayo del 2023 a las nueve y 19\"))"
   ]
  },
  {
   "cell_type": "code",
   "execution_count": 97,
   "metadata": {},
   "outputs": [
    {
     "data": {
      "text/plain": [
       "\"UPDATE camareros SET Activo = 1 WHERE Nombre = 'Manuel'; SELECT Nombre, Apellidos, Autorizado from camareros WHERE Activo = 1\""
      ]
     },
     "execution_count": 97,
     "metadata": {},
     "output_type": "execute_result"
    }
   ],
   "source": [
    "llm(similar_prompt.format(text=\"Activa al camarero manuel\"))"
   ]
  },
  {
   "cell_type": "code",
   "execution_count": 98,
   "metadata": {},
   "outputs": [
    {
     "data": {
      "text/plain": [
       "\"UPDATE camareros SET Activo = 0 WHERE Nombre = 'Manuel' AND Apellidos = 'Rodriguez'; SELECT Nombre, Apellidos, Autorizado from camareros WHERE Activo = 1\""
      ]
     },
     "execution_count": 98,
     "metadata": {},
     "output_type": "execute_result"
    }
   ],
   "source": [
    "llm(similar_prompt.format(text=\"Borra a manuel rodriguez\"))"
   ]
  },
  {
   "cell_type": "code",
   "execution_count": 23,
   "metadata": {},
   "outputs": [],
   "source": [
    "from typing import Optional, Type\n",
    "\n",
    "from langchain.callbacks.manager import AsyncCallbackManagerForToolRun, CallbackManagerForToolRun\n",
    "from langchain.schema import BaseModel, Field\n",
    "from langchain.tools import BaseTool\n",
    "import sqlite3\n",
    "from sqlite3 import Error\n",
    "from typing import Optional, Type\n",
    "\n",
    "# You can provide a custom args schema to add descriptions or custom validation\n",
    "\n",
    "class SearchSchema(BaseModel):\n",
    "    query: str = Field(description=\"should be a SQL query\")\n",
    "   \n",
    "\n",
    "class ExecSQLTools(BaseTool):\n",
    "    name = \"exec_sql\"\n",
    "    description = \"Useful when you need Execute a UPDATE, INSERT or DELETE SQL query\"\n",
    "    args_schema: Type[SearchSchema] = SearchSchema\n",
    "\n",
    "    \n",
    "\n",
    "    def create_connection(self):\n",
    "        conn = None;\n",
    "        try:\n",
    "            conn = sqlite3.connect(db_file)\n",
    "        except Error as e:\n",
    "            print(e)\n",
    "        return conn\n",
    "\n",
    "    def execute_sql(self, conn, sql):\n",
    "        try:\n",
    "            c = conn.cursor()\n",
    "            c.execute(sql)\n",
    "            conn.commit()\n",
    "        except Error as e:\n",
    "            print(e)\n",
    "        finally:\n",
    "            if conn:\n",
    "                conn.close()\n",
    "\n",
    "    def _run(self, query: str, run_manager: Optional[CallbackManagerForToolRun] = None) -> str:\n",
    "        conn = self.create_connection()\n",
    "        if conn is not None:\n",
    "            self.execute_sql(conn, query)\n",
    "            return \"SQL query executed successfully\"\n",
    "        else:\n",
    "            return \"Error! Cannot create the database connection.\"\n",
    "\n",
    "    async def _arun(self, query: str, run_manager: Optional[AsyncCallbackManagerForToolRun] = None) -> str:\n",
    "        return self._run(query, run_manager)\n",
    "    \n",
    "class QuerySQLTools(BaseTool):\n",
    "    name = \"query_sql\"\n",
    "    description = \"Useful when you need Execute a SELECT SQL query\"\n",
    "    args_schema: Type[SearchSchema] = SearchSchema\n",
    "\n",
    "    \n",
    "\n",
    "    def create_connection(self):\n",
    "        conn = None;\n",
    "        try:\n",
    "            conn = sqlite3.connect(db_file)\n",
    "        except Error as e:\n",
    "            return e\n",
    "        return conn\n",
    "\n",
    "    def execute_query(self, conn, sql):\n",
    "        try:\n",
    "            c = conn.cursor()\n",
    "            c.execute(sql)\n",
    "            return [dict(zip([column[0] for column in c.description], row)) \n",
    "                for row in c.fetchall()]\n",
    "        except Error as e:\n",
    "            return e\n",
    "        finally:\n",
    "            if conn:\n",
    "                conn.close()\n",
    "\n",
    "    def _run(self, query: str, run_manager: Optional[CallbackManagerForToolRun] = None) -> str:\n",
    "        conn = self.create_connection()\n",
    "        if conn is not None:\n",
    "            results = self.execute_query(conn, query)\n",
    "            return results\n",
    "        else:\n",
    "            return \"Error! Cannot create the database connection.\"\n",
    "\n",
    "    async def _arun(self, query: str, run_manager: Optional[AsyncCallbackManagerForToolRun] = None) -> str:\n",
    "        return self._run(query, run_manager)\n",
    "    "
   ]
  },
  {
   "cell_type": "code",
   "execution_count": 27,
   "metadata": {},
   "outputs": [],
   "source": [
    "from langchain.agents import initialize_agent\n",
    "from langchain.agents.types import AgentType\n",
    "from langchain.chains import LLMChain\n",
    "from langchain.tools import Tool\n",
    "from langchain.prompts import PromptTemplate\n",
    "\n",
    "prompt = PromptTemplate(\n",
    "    input_variables=[\"query\"],\n",
    "    template=\"{query}\"\n",
    ")\n",
    "\n",
    "db_file=\"../../../testtpv.sqlite3\"\n",
    "llm_chain = LLMChain(llm=llm, prompt=prompt)\n",
    "\n",
    "llm_tool = Tool(\n",
    "   name=\"Modelo del lenguaje\",\n",
    "   func=llm_chain.run,\n",
    "   description='use this tool for genera purpose queries an logic'\n",
    ")\n",
    "\n",
    "\n",
    "tools = [ExecSQLTools(), QuerySQLTools(), llm_tool]\n",
    "agent = initialize_agent(tools, llm, agent=AgentType.ZERO_SHOT_REACT_DESCRIPTION, max_iterations=3, verbose=True)"
   ]
  },
  {
   "cell_type": "code",
   "execution_count": 24,
   "metadata": {},
   "outputs": [
    {
     "name": "stdout",
     "output_type": "stream",
     "text": [
      "\n",
      "\n",
      "\u001b[1m> Entering new AgentExecutor chain...\u001b[0m\n",
      "\u001b[32;1m\u001b[1;3mWe need to update the \"Autorizado\" column for Manuel and Cristian to 1 and for everyone else to 0.\n",
      "Action: exec_sql\n",
      "Action Input: \n",
      "UPDATE camareros SET Autorizado = CASE WHEN Nombre IN ('Manuel', 'Cristian') THEN 1 ELSE 0 END;\u001b[0m\n",
      "Observation: \u001b[36;1m\u001b[1;3mSQL query executed successfully\u001b[0m\n",
      "Thought:\u001b[32;1m\u001b[1;3mNow we need to retrieve the updated data to confirm the changes.\n",
      "Action: query_sql\n",
      "Action Input: SELECT Nombre, Apellidos, Autorizado from camareros\u001b[0m\n",
      "Observation: \u001b[33;1m\u001b[1;3m[{'Nombre': 'Bart', 'Apellidos': 'Simpson', 'Autorizado': 0}, {'Nombre': 'Eloy', 'Apellidos': 'Ruiz', 'Autorizado': 0}, {'Nombre': 'Raul', 'Apellidos': 'Blanco', 'Autorizado': 0}, {'Nombre': 'Agustin', 'Apellidos': 'Martinez', 'Autorizado': 0}, {'Nombre': 'Alejandro', 'Apellidos': 'Fernandez', 'Autorizado': 0}, {'Nombre': 'Manuel', 'Apellidos': 'Rodriguez', 'Autorizado': 1}, {'Nombre': 'Omar', 'Apellidos': '', 'Autorizado': 0}, {'Nombre': 'José Luis', 'Apellidos': 'Rueda', 'Autorizado': 0}, {'Nombre': 'Daniel', 'Apellidos': 'Chinea', 'Autorizado': 0}, {'Nombre': 'Cristian', 'Apellidos': 'Leles', 'Autorizado': 1}, {'Nombre': 'The ', 'Apellidos': 'Boy', 'Autorizado': 0}, {'Nombre': 'Luis', 'Apellidos': 'Suarez', 'Autorizado': 0}]\u001b[0m\n",
      "Thought:\u001b[32;1m\u001b[1;3mThe query returned the expected results, so we can consider the task completed.\n",
      "Final Answer: The \"Autorizado\" column for Manuel and Cristian has been updated to 1, and for everyone else to 0.\u001b[0m\n",
      "\n",
      "\u001b[1m> Finished chain.\u001b[0m\n"
     ]
    },
    {
     "data": {
      "text/plain": [
       "'The \"Autorizado\" column for Manuel and Cristian has been updated to 1, and for everyone else to 0.'"
      ]
     },
     "execution_count": 24,
     "metadata": {},
     "output_type": "execute_result"
    }
   ],
   "source": [
    "\n",
    "agent.run(similar_prompt.format(text=\"Autoriza a manuel, cristian. desautoriza a los demas\"))"
   ]
  },
  {
   "cell_type": "code",
   "execution_count": 30,
   "metadata": {},
   "outputs": [
    {
     "name": "stdout",
     "output_type": "stream",
     "text": [
      "\n",
      "\n",
      "\u001b[1m> Entering new AgentExecutor chain...\u001b[0m\n",
      "\u001b[32;1m\u001b[1;3mThis input is similar to the first example input, so I should use query_sql to execute a SELECT query.\n",
      "Action: query_sql\n",
      "Action Input: \"SELECT Nombre FROM camareros WHERE Autorizado = 1\"\u001b[0m\n",
      "Observation: \u001b[33;1m\u001b[1;3m[{'Nombre': 'Manuel'}, {'Nombre': 'Cristian'}]\u001b[0m\n",
      "Thought:\u001b[32;1m\u001b[1;3mThe query returned the names of authorized waiters, so I need to modify it to include the ID and last name as well.\n",
      "Action: query_sql\n",
      "Action Input: \"SELECT ID, Nombre, Apellido FROM camareros WHERE Autorizado = 1\"\u001b[0m\n",
      "Observation: \u001b[33;1m\u001b[1;3mno such column: Apellido\u001b[0m\n",
      "Thought:\u001b[32;1m\u001b[1;3mI made a mistake in the query, the column name should be \"Apellido\" instead of \"Apellidos\".\n",
      "Action: query_sql\n",
      "Action Input: \"SELECT ID, Nombre, Apellido FROM camareros WHERE Autorizado = 1\"\u001b[0m\n",
      "Observation: \u001b[33;1m\u001b[1;3mno such column: Apellido\u001b[0m\n",
      "Thought:\u001b[32;1m\u001b[1;3m\u001b[0m\n",
      "\n",
      "\u001b[1m> Finished chain.\u001b[0m\n"
     ]
    },
    {
     "data": {
      "text/plain": [
       "'Agent stopped due to iteration limit or time limit.'"
      ]
     },
     "execution_count": 30,
     "metadata": {},
     "output_type": "execute_result"
    }
   ],
   "source": [
    "prompt = input()\n",
    "agent.run(similar_prompt.format(text=prompt))"
   ]
  }
 ],
 "metadata": {
  "kernelspec": {
   "display_name": "django",
   "language": "python",
   "name": "python3"
  },
  "language_info": {
   "codemirror_mode": {
    "name": "ipython",
    "version": 3
   },
   "file_extension": ".py",
   "mimetype": "text/x-python",
   "name": "python",
   "nbconvert_exporter": "python",
   "pygments_lexer": "ipython3",
   "version": "3.10.4"
  },
  "orig_nbformat": 4
 },
 "nbformat": 4,
 "nbformat_minor": 2
}
