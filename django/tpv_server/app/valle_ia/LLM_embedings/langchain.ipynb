{
 "cells": [
  {
   "cell_type": "code",
   "execution_count": 1,
   "metadata": {},
   "outputs": [],
   "source": [
    "import os\n",
    "openai_api_key = os.environ.get(\"API_KEY\")"
   ]
  },
  {
   "cell_type": "code",
   "execution_count": 2,
   "metadata": {},
   "outputs": [],
   "source": [
    "from langchain.chat_models import ChatOpenAI\n",
    "from langchain.chat_models import ChatOpenAI\n",
    "from langchain.schema import HumanMessage, SystemMessage, AIMessage\n",
    "\n",
    "chat = ChatOpenAI(temperature=.7, openai_api_key=openai_api_key)"
   ]
  },
  {
   "cell_type": "code",
   "execution_count": 3,
   "metadata": {},
   "outputs": [
    {
     "data": {
      "text/plain": [
       "AIMessage(content='How about a Caprese salad with fresh tomatoes, mozzarella cheese, and basil?', additional_kwargs={}, example=False)"
      ]
     },
     "execution_count": 3,
     "metadata": {},
     "output_type": "execute_result"
    }
   ],
   "source": [
    "chat(\n",
    "    [\n",
    "        SystemMessage(content=\"You are a nice AI bot that helps a user figure out what to eat in one short sentence\"),\n",
    "        HumanMessage(content=\"I like tomatoes, what should I eat?\")\n",
    "    ]\n",
    ")\n"
   ]
  },
  {
   "cell_type": "code",
   "execution_count": 5,
   "metadata": {},
   "outputs": [
    {
     "data": {
      "text/plain": [
       "\"While you're in Nice, you should also explore the old town, visit the colorful markets, and hike up to the scenic Colline du Château.\""
      ]
     },
     "execution_count": 5,
     "metadata": {},
     "output_type": "execute_result"
    }
   ],
   "source": [
    "response = chat(\n",
    "    [\n",
    "        SystemMessage(content=\"You are a nice AI bot that helps a user figure out where to travel in one short sentence\"),\n",
    "        HumanMessage(content=\"I like the beaches where should I go?\"),\n",
    "        AIMessage(content=\"You should go to Nice, France\"),\n",
    "        HumanMessage(content=\"What else should I do when I'm there?\")\n",
    "    ]\n",
    ")\n",
    "response.content"
   ]
  },
  {
   "cell_type": "code",
   "execution_count": 6,
   "metadata": {},
   "outputs": [],
   "source": [
    "from langchain.schema import Document"
   ]
  },
  {
   "cell_type": "code",
   "execution_count": 7,
   "metadata": {},
   "outputs": [
    {
     "data": {
      "text/plain": [
       "Document(page_content=\"This is my document. It is full of text that I've gathered from other places\", metadata={'my_document_id': 234234, 'my_document_source': 'The LangChain Papers', 'my_document_create_time': 1680013019})"
      ]
     },
     "execution_count": 7,
     "metadata": {},
     "output_type": "execute_result"
    }
   ],
   "source": [
    "Document(page_content=\"This is my document. It is full of text that I've gathered from other places\",\n",
    "         metadata={\n",
    "             'my_document_id' : 234234,\n",
    "             'my_document_source' : \"The LangChain Papers\",\n",
    "             'my_document_create_time' : 1680013019\n",
    "         })"
   ]
  },
  {
   "cell_type": "code",
   "execution_count": 8,
   "metadata": {},
   "outputs": [
    {
     "data": {
      "text/plain": [
       "AIMessage(content=\"You should probably walk there, it's great exercise!\", additional_kwargs={}, example=False)"
      ]
     },
     "execution_count": 8,
     "metadata": {},
     "output_type": "execute_result"
    }
   ],
   "source": [
    "chat(\n",
    "    [\n",
    "        SystemMessage(content=\"You are an unhelpful AI bot that makes a joke at whatever the user says\"),\n",
    "        HumanMessage(content=\"I would like to go to New York, how should I do this?\")\n",
    "    ]\n",
    ")"
   ]
  },
  {
   "cell_type": "code",
   "execution_count": 11,
   "metadata": {},
   "outputs": [],
   "source": [
    "import numpy as np\n",
    "import pandas as pd\n",
    "import time\n",
    "from redis.commands.search.field import VectorField\n",
    "from redis.commands.search.field import TextField\n",
    "from redis.commands.search.field import TagField\n",
    "from redis.commands.search.query import Query\n",
    "import redis"
   ]
  },
  {
   "cell_type": "code",
   "execution_count": 37,
   "metadata": {},
   "outputs": [],
   "source": [
    "import json\n",
    "with open(\"finetuning.json\", \"r\") as f:\n",
    "    datos = json.loads(f.read())\n",
    "\n",
    "for d in datos:\n",
    "    \n",
    "    if \"estado_choices\" in d.keys():\n",
    "        d[\"completion\"] = d[\"completion\"] +\" \" +json.dumps(d[\"estado_choices\"])\n",
    "\n",
    "with open(\"instruccion_db.json\", \"w\") as f:\n",
    "    f.write(json.dumps(datos))\n"
   ]
  },
  {
   "cell_type": "code",
   "execution_count": 54,
   "metadata": {},
   "outputs": [],
   "source": [
    "NUMBER_PRODUCTS=1000\n",
    "\n",
    "#Load Product data and truncate long text fields\n",
    "all_prods_df = pd.read_json(\"instruccion_db.json\")\n",
    "\n",
    "\n",
    "all_prods_df['estado_choices'] = all_prods_df['estado_choices'].apply(json.dumps)\n",
    "all_prods_df['completion'] = all_prods_df['completion'].apply(json.dumps)\n",
    "all_prods_df['completion']= all_prods_df[\"completion\"] + \" \" + all_prods_df[\"estado_choices\"]\n",
    "all_prods_df['primary_key'] = all_prods_df['prompt'] + '-' + all_prods_df['completion']\n",
    "\n",
    "all_prods_df.drop(\"estado_choices\",axis=1, inplace=True)\n",
    "all_prods_df = all_prods_df.astype(str)\n",
    "\n",
    "all_prods_df.reset_index(drop=True,inplace=True)\n",
    "\n",
    "#get the first 1000 products with non-empty item keywords\n",
    "product_metadata = all_prods_df.head(NUMBER_PRODUCTS).to_dict(orient='index')\n"
   ]
  },
  {
   "cell_type": "code",
   "execution_count": 55,
   "metadata": {},
   "outputs": [
    {
     "data": {
      "text/html": [
       "<div>\n",
       "<style scoped>\n",
       "    .dataframe tbody tr th:only-of-type {\n",
       "        vertical-align: middle;\n",
       "    }\n",
       "\n",
       "    .dataframe tbody tr th {\n",
       "        vertical-align: top;\n",
       "    }\n",
       "\n",
       "    .dataframe thead th {\n",
       "        text-align: right;\n",
       "    }\n",
       "</style>\n",
       "<table border=\"1\" class=\"dataframe\">\n",
       "  <thead>\n",
       "    <tr style=\"text-align: right;\">\n",
       "      <th></th>\n",
       "      <th>prompt</th>\n",
       "      <th>completion</th>\n",
       "      <th>primary_key</th>\n",
       "    </tr>\n",
       "  </thead>\n",
       "  <tbody>\n",
       "    <tr>\n",
       "      <th>117</th>\n",
       "      <td>Lista de las 10 últimas mesas que contienen nulos</td>\n",
       "      <td>\"WITH latest_unique_historialnulos AS (SELECT ...</td>\n",
       "      <td>Lista de las 10 últimas mesas que contienen nu...</td>\n",
       "    </tr>\n",
       "    <tr>\n",
       "      <th>118</th>\n",
       "      <td>Puedes dadme la informacion completa de la mes...</td>\n",
       "      <td>\"WITH ic AS (SELECT Hora, Fecha, IDCam, UID, C...</td>\n",
       "      <td>Puedes dadme la informacion completa de la mes...</td>\n",
       "    </tr>\n",
       "    <tr>\n",
       "      <th>119</th>\n",
       "      <td>Dame toda la informacion de la ultima mesa Z1</td>\n",
       "      <td>\"WITH ic AS (SELECT Hora, Fecha, IDCam, UID, C...</td>\n",
       "      <td>Dame toda la informacion de la ultima mesa Z1...</td>\n",
       "    </tr>\n",
       "    <tr>\n",
       "      <th>120</th>\n",
       "      <td>Dame toda la informacion de la ultima Z1 que a...</td>\n",
       "      <td>\"WITH ic AS (SELECT Hora, Fecha, IDCam, UID, C...</td>\n",
       "      <td>Dame toda la informacion de la ultima Z1 que a...</td>\n",
       "    </tr>\n",
       "    <tr>\n",
       "      <th>121</th>\n",
       "      <td>dame la informacion de las ultimas 10 mesas</td>\n",
       "      <td>\"WITH ic AS (SELECT Hora, Fecha, IDCam, UID, C...</td>\n",
       "      <td>dame la informacion de las ultimas 10 mesas-\"W...</td>\n",
       "    </tr>\n",
       "  </tbody>\n",
       "</table>\n",
       "</div>"
      ],
      "text/plain": [
       "                                                prompt   \n",
       "117  Lista de las 10 últimas mesas que contienen nulos  \\\n",
       "118  Puedes dadme la informacion completa de la mes...   \n",
       "119      Dame toda la informacion de la ultima mesa Z1   \n",
       "120  Dame toda la informacion de la ultima Z1 que a...   \n",
       "121        dame la informacion de las ultimas 10 mesas   \n",
       "\n",
       "                                            completion   \n",
       "117  \"WITH latest_unique_historialnulos AS (SELECT ...  \\\n",
       "118  \"WITH ic AS (SELECT Hora, Fecha, IDCam, UID, C...   \n",
       "119  \"WITH ic AS (SELECT Hora, Fecha, IDCam, UID, C...   \n",
       "120  \"WITH ic AS (SELECT Hora, Fecha, IDCam, UID, C...   \n",
       "121  \"WITH ic AS (SELECT Hora, Fecha, IDCam, UID, C...   \n",
       "\n",
       "                                           primary_key  \n",
       "117  Lista de las 10 últimas mesas que contienen nu...  \n",
       "118  Puedes dadme la informacion completa de la mes...  \n",
       "119   Dame toda la informacion de la ultima mesa Z1...  \n",
       "120  Dame toda la informacion de la ultima Z1 que a...  \n",
       "121  dame la informacion de las ultimas 10 mesas-\"W...  "
      ]
     },
     "execution_count": 55,
     "metadata": {},
     "output_type": "execute_result"
    }
   ],
   "source": [
    "all_prods_df.tail()"
   ]
  },
  {
   "cell_type": "code",
   "execution_count": 56,
   "metadata": {},
   "outputs": [],
   "source": [
    "def load_strings(client, data):\n",
    "    p = client.pipeline(transaction=False)\n",
    "    for index, row in data.iterrows():    \n",
    "        #hash key\n",
    "        key = 'data:' + str(index)\n",
    "        \n",
    "        #hash values\n",
    "        p.hset(key, mapping=row.to_dict())\n",
    "            \n",
    "    p.execute()\n",
    "\n",
    "def create_index (redis_conn):\n",
    "    redis_conn.ft().create_index([\n",
    "        TextField(\"prompt\"),\n",
    "        TextField(\"completion\")     \n",
    "    ])\n"
   ]
  },
  {
   "cell_type": "code",
   "execution_count": 100,
   "metadata": {},
   "outputs": [],
   "source": [
    "from langchain.document_loaders import TextLoader\n",
    "from langchain.text_splitter import RecursiveCharacterTextSplitter\n",
    "from langchain.vectorstores import FAISS\n",
    "from langchain.embeddings import OpenAIEmbeddings\n",
    "\n",
    "loader = TextLoader('instruccion_db.json')\n",
    "documents = loader.load()\n"
   ]
  },
  {
   "cell_type": "code",
   "execution_count": 101,
   "metadata": {},
   "outputs": [],
   "source": [
    "# Get your splitter ready\n",
    "text_splitter = RecursiveCharacterTextSplitter(chunk_size=1000, chunk_overlap=50)\n",
    "\n",
    "# Split your docs into texts\n",
    "texts = text_splitter.split_documents(documents)\n",
    "\n",
    "# Get embedding engine ready\n",
    "embeddings = OpenAIEmbeddings(openai_api_key=openai_api_key)\n",
    "\n",
    "# Embedd your texts\n",
    "db = FAISS.from_documents(texts, embeddings)"
   ]
  },
  {
   "cell_type": "code",
   "execution_count": 102,
   "metadata": {},
   "outputs": [],
   "source": [
    "retriever = db.as_retriever()"
   ]
  },
  {
   "cell_type": "code",
   "execution_count": 103,
   "metadata": {},
   "outputs": [],
   "source": [
    "docs = retriever.get_relevant_documents(\"Dame todos los camareros activos\")"
   ]
  },
  {
   "cell_type": "code",
   "execution_count": 104,
   "metadata": {},
   "outputs": [
    {
     "name": "stdout",
     "output_type": "stream",
     "text": [
      "camareros WHERE Activo = 1\"}, {\"prompt\": \"Borrar al camarero Bart Simsoms.\", \"completion\": \"UPDATE camareros SET Activo = 0 WHERE Nombre = 'Bart' AND Apellidos='Simsoms'; SELECT Nombre, Apellidos, Aut\n",
      "\n",
      "informaci\\u00f3n de los camareros\", \"completion\": \"SELECT ID, Nombre, Apellido, Autorizado FROM camareros;\"}, {\"prompt\": \"\\u00bfCu\\u00e1ntos camareros autorizados hay?\", \"completion\": \"SELECT COUNT(*)\n"
     ]
    }
   ],
   "source": [
    "print(\"\\n\\n\".join([x.page_content[:200] for x in docs[:2]]))"
   ]
  },
  {
   "cell_type": "code",
   "execution_count": 130,
   "metadata": {},
   "outputs": [],
   "source": [
    "from langchain.chat_models import ChatOpenAI\n",
    "\n",
    "llm = ChatOpenAI(model_name=\"gpt-3.5-turbo\",temperature=0, openai_api_key=openai_api_key)"
   ]
  },
  {
   "cell_type": "code",
   "execution_count": 131,
   "metadata": {},
   "outputs": [],
   "source": [
    "# The LangChain component we'll use to get the documents\n",
    "from langchain.chains import RetrievalQA\n",
    "\n",
    "docsearch = FAISS.from_documents(docs, embeddings)\n",
    "qa = RetrievalQA.from_chain_type(llm=llm, chain_type=\"stuff\", retriever=docsearch.as_retriever())"
   ]
  },
  {
   "cell_type": "code",
   "execution_count": 132,
   "metadata": {},
   "outputs": [
    {
     "data": {
      "text/plain": [
       "'La consulta para recuperar la lista de camareros sería: \"SELECT Nombre, Apellidos, Autorizado FROM camareros WHERE Activo = 1\".'"
      ]
     },
     "execution_count": 132,
     "metadata": {},
     "output_type": "execute_result"
    }
   ],
   "source": [
    "qa.run(\"que consulta seria buena para recuperar la lista de camareros?\")"
   ]
  },
  {
   "cell_type": "code",
   "execution_count": 133,
   "metadata": {},
   "outputs": [
    {
     "data": {
      "text/plain": [
       "'Sí, la consulta SQL para buscar todos los camareros activos sería:\\n\\nSELECT * FROM camareros WHERE Activo = 1;'"
      ]
     },
     "execution_count": 133,
     "metadata": {},
     "output_type": "execute_result"
    }
   ],
   "source": [
    "qa.run(\"puedes crear una consulta sql que busque todos los camareros activos\")"
   ]
  },
  {
   "cell_type": "code",
   "execution_count": 134,
   "metadata": {},
   "outputs": [],
   "source": [
    "from langchain.prompts import PromptTemplate\n",
    "\n",
    "# Create our template\n",
    "template = \"\"\"\n",
    "Eres una IA experta en traducir texto a SQL:   \n",
    "\n",
    "Podrias crar una consulta SQL con la {consulta}. Solo necesito la consulta sin explicaciones.\n",
    "En una linea.\n",
    "\"\"\"\n",
    "\n",
    "\n",
    "\n",
    "p = PromptTemplate(\n",
    "    template=template,\n",
    "    input_variables=[\"consulta\"]\n",
    ")"
   ]
  },
  {
   "cell_type": "code",
   "execution_count": 135,
   "metadata": {},
   "outputs": [
    {
     "data": {
      "text/plain": [
       "'SELECT Nombre, Apellidos FROM camareros;'"
      ]
     },
     "execution_count": 135,
     "metadata": {},
     "output_type": "execute_result"
    }
   ],
   "source": [
    "qa.run(p.format(consulta=\"Dame la lista de camareros\") )"
   ]
  },
  {
   "cell_type": "code",
   "execution_count": 136,
   "metadata": {},
   "outputs": [
    {
     "data": {
      "text/plain": [
       "'SELECT * FROM ticket ORDER BY ID DESC LIMIT 100;'"
      ]
     },
     "execution_count": 136,
     "metadata": {},
     "output_type": "execute_result"
    }
   ],
   "source": [
    "qa.run(p.format(consulta=\"Lista de los 100 ultimos ticket\"))"
   ]
  },
  {
   "cell_type": "code",
   "execution_count": 128,
   "metadata": {},
   "outputs": [
    {
     "data": {
      "text/plain": [
       "\"SELECT infmesa.*, nommesas.Nombre FROM infmesa INNER JOIN (SELECT UID, Nombre FROM mesas WHERE Nombre = 'Z1') AS nommesas ON infmesa.UID = nommesas.UID;\""
      ]
     },
     "execution_count": 128,
     "metadata": {},
     "output_type": "execute_result"
    }
   ],
   "source": [
    "qa.run(p.format(consulta=\"Dame la informacion completa de la mesa Z1\"))"
   ]
  }
 ],
 "metadata": {
  "kernelspec": {
   "display_name": "django",
   "language": "python",
   "name": "python3"
  },
  "language_info": {
   "codemirror_mode": {
    "name": "ipython",
    "version": 3
   },
   "file_extension": ".py",
   "mimetype": "text/x-python",
   "name": "python",
   "nbconvert_exporter": "python",
   "pygments_lexer": "ipython3",
   "version": "3.11.3"
  },
  "orig_nbformat": 4
 },
 "nbformat": 4,
 "nbformat_minor": 2
}
