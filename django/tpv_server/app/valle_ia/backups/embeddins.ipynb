{
 "cells": [
  {
   "cell_type": "code",
   "execution_count": 4,
   "metadata": {},
   "outputs": [],
   "source": [
    "from langchain.embeddings.openai import OpenAIEmbeddings\n",
    "from langchain.text_splitter import RecursiveCharacterTextSplitter\n",
    "from langchain.vectorstores import FAISS\n",
    "from langchain.document_loaders import TextLoader"
   ]
  },
  {
   "cell_type": "code",
   "execution_count": 26,
   "metadata": {},
   "outputs": [],
   "source": [
    "loader = TextLoader('database_tables.json')\n",
    "documents = loader.load()\n",
    "text_splitter = RecursiveCharacterTextSplitter(chunk_size=200, chunk_overlap=0)\n",
    "docs = text_splitter.split_documents(documents)\n",
    "print(len(docs))\n"
   ]
  },
  {
   "cell_type": "code",
   "execution_count": 27,
   "metadata": {},
   "outputs": [],
   "source": [
    "embeddings = OpenAIEmbeddings()\n",
    "db = FAISS.from_documents(docs, embeddings)"
   ]
  },
  {
   "cell_type": "code",
   "execution_count": 28,
   "metadata": {},
   "outputs": [
    {
     "name": "stdout",
     "output_type": "stream",
     "text": [
      "58\n",
      "4\n"
     ]
    }
   ],
   "source": [
    "print(len(docs))\n",
    "query = \"camareros\"\n",
    "docs = db.similarity_search(query)\n",
    "print(len(docs))"
   ]
  },
  {
   "cell_type": "code",
   "execution_count": 29,
   "metadata": {},
   "outputs": [
    {
     "name": "stdout",
     "output_type": "stream",
     "text": [
      "(Document(page_content='\"camareros\": \"(\\\\\"ID\\\\\" integer NOT NULL PRIMARY KEY AUTOINCREMENT, \\\\\"Nombre\\\\\" varchar(100) NOT NULL, \\\\\"Apellidos\\\\\" varchar(100) NOT NULL, \\\\\"Email\\\\\" varchar(50) NULL, \\\\\"Pass\\\\\" varchar(100) NULL,', metadata={'source': 'database_tables.json'}), 0.27137944)\n"
     ]
    }
   ],
   "source": [
    "docs_and_scores = db.similarity_search_with_score(query)\n",
    "print(docs_and_scores[0])"
   ]
  },
  {
   "cell_type": "code",
   "execution_count": 30,
   "metadata": {},
   "outputs": [
    {
     "name": "stdout",
     "output_type": "stream",
     "text": [
      "page_content='\"camareros\": \"(\\\\\"ID\\\\\" integer NOT NULL PRIMARY KEY AUTOINCREMENT, \\\\\"Nombre\\\\\" varchar(100) NOT NULL, \\\\\"Apellidos\\\\\" varchar(100) NOT NULL, \\\\\"Email\\\\\" varchar(50) NULL, \\\\\"Pass\\\\\" varchar(100) NULL,' metadata={'source': 'database_tables.json'}\n"
     ]
    }
   ],
   "source": [
    "db.save_local(\"faiss_index\")\n",
    "new_db = FAISS.load_local(\"faiss_index\", embeddings)\n",
    "docs = new_db.similarity_search(query)\n",
    "print(docs[0])"
   ]
  },
  {
   "cell_type": "code",
   "execution_count": 11,
   "metadata": {},
   "outputs": [
    {
     "name": "stdout",
     "output_type": "stream",
     "text": [
      "{'649197f4-94b4-4e8f-8406-61f58c962d9c': Document(page_content='foo', metadata={})}\n"
     ]
    }
   ],
   "source": [
    "db1 = FAISS.from_texts([\"foo\"], embeddings)\n",
    "db2 = FAISS.from_texts([\"bar\"], embeddings)\n",
    "print(db1.docstore._dict)\n",
    "\n"
   ]
  },
  {
   "cell_type": "code",
   "execution_count": 12,
   "metadata": {},
   "outputs": [
    {
     "name": "stdout",
     "output_type": "stream",
     "text": [
      "<langchain.docstore.in_memory.InMemoryDocstore object at 0x7f120e4a5930>\n"
     ]
    }
   ],
   "source": [
    "print(db1.docstore)\n"
   ]
  },
  {
   "cell_type": "code",
   "execution_count": 3,
   "metadata": {},
   "outputs": [
    {
     "name": "stdout",
     "output_type": "stream",
     "text": [
      "Collecting scikit-learn\n",
      "  Downloading scikit_learn-1.2.2-cp310-cp310-manylinux_2_17_x86_64.manylinux2014_x86_64.whl (9.6 MB)\n",
      "\u001b[2K     \u001b[90m━━━━━━━━━━━━━━━━━━━━━━━━━━━━━━━━━━━━━━━━\u001b[0m \u001b[32m9.6/9.6 MB\u001b[0m \u001b[31m73.5 MB/s\u001b[0m eta \u001b[36m0:00:00\u001b[0ma \u001b[36m0:00:01\u001b[0m\n",
      "\u001b[?25hCollecting joblib>=1.1.1\n",
      "  Using cached joblib-1.2.0-py3-none-any.whl (297 kB)\n",
      "Collecting scipy>=1.3.2\n",
      "  Downloading scipy-1.10.1-cp310-cp310-manylinux_2_17_x86_64.manylinux2014_x86_64.whl (34.4 MB)\n",
      "\u001b[2K     \u001b[90m━━━━━━━━━━━━━━━━━━━━━━━━━━━━━━━━━━━━━━━━\u001b[0m \u001b[32m34.4/34.4 MB\u001b[0m \u001b[31m71.0 MB/s\u001b[0m eta \u001b[36m0:00:00\u001b[0m00:01\u001b[0m00:01\u001b[0m\n",
      "\u001b[?25hCollecting threadpoolctl>=2.0.0\n",
      "  Using cached threadpoolctl-3.1.0-py3-none-any.whl (14 kB)\n",
      "Requirement already satisfied: numpy>=1.17.3 in /home/valle/aplicaciones/anaconda3/envs/django/lib/python3.10/site-packages (from scikit-learn) (1.24.3)\n",
      "Installing collected packages: threadpoolctl, scipy, joblib, scikit-learn\n",
      "Successfully installed joblib-1.2.0 scikit-learn-1.2.2 scipy-1.10.1 threadpoolctl-3.1.0\n",
      "Note: you may need to restart the kernel to use updated packages.\n"
     ]
    }
   ],
   "source": [
    "%pip install -U scikit-learn\n"
   ]
  },
  {
   "cell_type": "code",
   "execution_count": 9,
   "metadata": {},
   "outputs": [
    {
     "name": "stdout",
     "output_type": "stream",
     "text": [
      "Cosine Similarity:  [[0.82063711]]\n",
      "Euclidean Distance:  [[0.59893719]]\n"
     ]
    }
   ],
   "source": [
    "from sklearn.metrics.pairwise import cosine_similarity, euclidean_distances\n",
    "\n",
    "# Initialize the embeddings\n",
    "embeddings = OpenAIEmbeddings()\n",
    "\n",
    "\n",
    "\n",
    "# Convert the text to embeddings\n",
    "embedding_vector1 = embeddings.embed_query(\"vaca\")\n",
    "embedding_vector2 = embeddings.embed_query(\"cow\")\n",
    "\n",
    "# Supongamos que embedding1 y embedding2 son tus dos vectores de embedding\n",
    "cosine_sim = cosine_similarity([embedding_vector1], [embedding_vector2])\n",
    "euclidean_dist = euclidean_distances([embedding_vector1], [embedding_vector2])\n",
    "\n",
    "print(\"Cosine Similarity: \", cosine_sim)\n",
    "print(\"Euclidean Distance: \", euclidean_dist)\n"
   ]
  }
 ],
 "metadata": {
  "kernelspec": {
   "display_name": "django",
   "language": "python",
   "name": "python3"
  },
  "language_info": {
   "codemirror_mode": {
    "name": "ipython",
    "version": 3
   },
   "file_extension": ".py",
   "mimetype": "text/x-python",
   "name": "python",
   "nbconvert_exporter": "python",
   "pygments_lexer": "ipython3",
   "version": "3.10.4"
  },
  "orig_nbformat": 4
 },
 "nbformat": 4,
 "nbformat_minor": 2
}
